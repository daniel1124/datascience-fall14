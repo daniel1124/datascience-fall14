{
 "metadata": {
  "name": "",
  "signature": "sha256:d862102ef2b2e2f10985278337ea907790a7bb3995f3b969b601481a24533ea1"
 },
 "nbformat": 3,
 "nbformat_minor": 0,
 "worksheets": []
}