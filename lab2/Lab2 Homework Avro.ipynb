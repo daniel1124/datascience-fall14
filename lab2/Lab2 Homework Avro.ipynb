{
 "metadata": {
  "name": "",
  "signature": "sha256:f4f1b32a28084c97c1ed00648da9cc78df00853b2bd1ea8846019d61573fc15d"
 },
 "nbformat": 3,
 "nbformat_minor": 0,
 "worksheets": [
  {
   "cells": [
    {
     "cell_type": "code",
     "collapsed": false,
     "input": [
      "import avro.schema\n",
      "from avro.datafile import DataFileReader\n",
      "from avro.io import DatumReader\n",
      "\n",
      "import pandas as pd\n",
      "import numpy as np\n",
      "\n",
      "reader = DataFileReader(open(\"countries.avro\", \"r\"), DatumReader())\n",
      "countries = pd.DataFrame(columns=[\"name\", \"country_id\", \"area_sqkm\", \"population\"])\n",
      "\n",
      "for item in reader:\n",
      "    countries = countries.append(item, ignore_index=True)\n",
      "\n",
      "len(countries[countries.population > 10000000])\n"
     ],
     "language": "python",
     "metadata": {},
     "outputs": [
      {
       "metadata": {},
       "output_type": "pyout",
       "prompt_number": 36,
       "text": [
        "36"
       ]
      }
     ],
     "prompt_number": 36
    }
   ],
   "metadata": {}
  }
 ]
}